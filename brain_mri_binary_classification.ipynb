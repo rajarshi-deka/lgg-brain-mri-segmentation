{
  "nbformat": 4,
  "nbformat_minor": 0,
  "metadata": {
    "colab": {
      "name": "brain_mri_binary_classification.ipynb",
      "provenance": [],
      "collapsed_sections": [],
      "toc_visible": true
    },
    "kernelspec": {
      "name": "python3",
      "display_name": "Python 3"
    },
    "accelerator": "GPU"
  },
  "cells": [
    {
      "cell_type": "markdown",
      "metadata": {
        "id": "s8-4035YFaxP"
      },
      "source": [
        "# Binary Classification for Brain MRI"
      ]
    },
    {
      "cell_type": "code",
      "metadata": {
        "id": "mFvZ0ItOCOyZ",
        "outputId": "8272ff9c-3c77-4de3-f8be-52c315c1388f",
        "colab": {
          "base_uri": "https://localhost:8080/",
          "height": 121
        }
      },
      "source": [
        "from google.colab import drive\n",
        "drive.mount('/content/gdrive')"
      ],
      "execution_count": null,
      "outputs": [
        {
          "output_type": "stream",
          "text": [
            "Go to this URL in a browser: https://accounts.google.com/o/oauth2/auth?client_id=947318989803-6bn6qk8qdgf4n4g3pfee6491hc0brc4i.apps.googleusercontent.com&redirect_uri=urn%3aietf%3awg%3aoauth%3a2.0%3aoob&scope=email%20https%3a%2f%2fwww.googleapis.com%2fauth%2fdocs.test%20https%3a%2f%2fwww.googleapis.com%2fauth%2fdrive%20https%3a%2f%2fwww.googleapis.com%2fauth%2fdrive.photos.readonly%20https%3a%2f%2fwww.googleapis.com%2fauth%2fpeopleapi.readonly&response_type=code\n",
            "\n",
            "Enter your authorization code:\n",
            "··········\n",
            "Mounted at /content/gdrive\n"
          ],
          "name": "stdout"
        }
      ]
    },
    {
      "cell_type": "markdown",
      "metadata": {
        "id": "kEHC7D6Eky_D"
      },
      "source": [
        "## Import Packages"
      ]
    },
    {
      "cell_type": "code",
      "metadata": {
        "id": "-KgnskYWXJDH"
      },
      "source": [
        "# !pip install tensorflow_io"
      ],
      "execution_count": null,
      "outputs": []
    },
    {
      "cell_type": "code",
      "metadata": {
        "id": "nRZW98ndk3L8"
      },
      "source": [
        "import cv2\n",
        "import shutil\n",
        "import pickle\n",
        "import datetime\n",
        "import warnings\n",
        "warnings.filterwarnings('ignore')\n",
        "\n",
        "import pandas as pd\n",
        "import numpy as np\n",
        "import tensorflow as tf\n",
        "import seaborn as sns\n",
        "sns.set_style('whitegrid')\n",
        "import tensorflow_io as tfio\n",
        "import matplotlib.pyplot as plt\n",
        "%matplotlib inline\n",
        "\n",
        "from sklearn.model_selection import train_test_split\n",
        "from PIL import Image\n",
        "from sklearn.metrics import confusion_matrix, plot_confusion_matrix\n",
        "from tensorflow.keras import backend as K\n",
        "from tensorflow.keras.applications import Xception\n",
        "from tensorflow.keras.layers import GlobalAveragePooling2D, Dense, BatchNormalization, Dropout, Input, Conv2D, Activation, SeparableConv2D\n",
        "from tensorflow.keras import layers\n",
        "from tensorflow.keras.models import Model, load_model\n",
        "from tensorflow.keras.optimizers import Adam\n",
        "from tensorflow.keras.callbacks import ModelCheckpoint, EarlyStopping, TensorBoard\n",
        "from tensorflow.keras.preprocessing.image import ImageDataGenerator\n",
        "from tqdm import tqdm_notebook"
      ],
      "execution_count": null,
      "outputs": []
    },
    {
      "cell_type": "code",
      "metadata": {
        "id": "smUjLCL8Lsx6",
        "outputId": "9120ef4d-12cc-4c81-f51a-f852e4407b6a",
        "colab": {
          "base_uri": "https://localhost:8080/",
          "height": 34
        }
      },
      "source": [
        "print(tf.__version__)"
      ],
      "execution_count": null,
      "outputs": [
        {
          "output_type": "stream",
          "text": [
            "2.3.0\n"
          ],
          "name": "stdout"
        }
      ]
    },
    {
      "cell_type": "markdown",
      "metadata": {
        "id": "5zc8V2oEi8Bw"
      },
      "source": [
        "## Check for Binary Classification"
      ]
    },
    {
      "cell_type": "code",
      "metadata": {
        "id": "CTDgRm9MkpAv",
        "outputId": "fec67c9b-b19d-4101-97fe-c3a585c06220",
        "colab": {
          "base_uri": "https://localhost:8080/",
          "height": 195
        }
      },
      "source": [
        "df = pd.read_csv('/content/gdrive/My Drive/brain_mri/images_masks_diagnosis.csv')\n",
        "df.head()"
      ],
      "execution_count": null,
      "outputs": [
        {
          "output_type": "execute_result",
          "data": {
            "text/html": [
              "<div>\n",
              "<style scoped>\n",
              "    .dataframe tbody tr th:only-of-type {\n",
              "        vertical-align: middle;\n",
              "    }\n",
              "\n",
              "    .dataframe tbody tr th {\n",
              "        vertical-align: top;\n",
              "    }\n",
              "\n",
              "    .dataframe thead th {\n",
              "        text-align: right;\n",
              "    }\n",
              "</style>\n",
              "<table border=\"1\" class=\"dataframe\">\n",
              "  <thead>\n",
              "    <tr style=\"text-align: right;\">\n",
              "      <th></th>\n",
              "      <th>images</th>\n",
              "      <th>masks</th>\n",
              "      <th>diagnosis</th>\n",
              "    </tr>\n",
              "  </thead>\n",
              "  <tbody>\n",
              "    <tr>\n",
              "      <th>0</th>\n",
              "      <td>lgg-mri-segmentation/kaggle_3m/TCGA_DU_7309_19...</td>\n",
              "      <td>lgg-mri-segmentation/kaggle_3m/TCGA_DU_7309_19...</td>\n",
              "      <td>0</td>\n",
              "    </tr>\n",
              "    <tr>\n",
              "      <th>1</th>\n",
              "      <td>lgg-mri-segmentation/kaggle_3m/TCGA_DU_7309_19...</td>\n",
              "      <td>lgg-mri-segmentation/kaggle_3m/TCGA_DU_7309_19...</td>\n",
              "      <td>0</td>\n",
              "    </tr>\n",
              "    <tr>\n",
              "      <th>2</th>\n",
              "      <td>lgg-mri-segmentation/kaggle_3m/TCGA_DU_7309_19...</td>\n",
              "      <td>lgg-mri-segmentation/kaggle_3m/TCGA_DU_7309_19...</td>\n",
              "      <td>0</td>\n",
              "    </tr>\n",
              "    <tr>\n",
              "      <th>3</th>\n",
              "      <td>lgg-mri-segmentation/kaggle_3m/TCGA_DU_7309_19...</td>\n",
              "      <td>lgg-mri-segmentation/kaggle_3m/TCGA_DU_7309_19...</td>\n",
              "      <td>0</td>\n",
              "    </tr>\n",
              "    <tr>\n",
              "      <th>4</th>\n",
              "      <td>lgg-mri-segmentation/kaggle_3m/TCGA_DU_7309_19...</td>\n",
              "      <td>lgg-mri-segmentation/kaggle_3m/TCGA_DU_7309_19...</td>\n",
              "      <td>0</td>\n",
              "    </tr>\n",
              "  </tbody>\n",
              "</table>\n",
              "</div>"
            ],
            "text/plain": [
              "                                              images  ... diagnosis\n",
              "0  lgg-mri-segmentation/kaggle_3m/TCGA_DU_7309_19...  ...         0\n",
              "1  lgg-mri-segmentation/kaggle_3m/TCGA_DU_7309_19...  ...         0\n",
              "2  lgg-mri-segmentation/kaggle_3m/TCGA_DU_7309_19...  ...         0\n",
              "3  lgg-mri-segmentation/kaggle_3m/TCGA_DU_7309_19...  ...         0\n",
              "4  lgg-mri-segmentation/kaggle_3m/TCGA_DU_7309_19...  ...         0\n",
              "\n",
              "[5 rows x 3 columns]"
            ]
          },
          "metadata": {
            "tags": []
          },
          "execution_count": 2
        }
      ]
    },
    {
      "cell_type": "code",
      "metadata": {
        "id": "_Zm2XEFkpwFO",
        "outputId": "6d04d926-97e8-4f7a-a75b-5932d7006f2d",
        "colab": {
          "base_uri": "https://localhost:8080/",
          "height": 286
        }
      },
      "source": [
        "sample = df[df['diagnosis'] == 0].sample(4).values\n",
        "for datapoint in sample:\n",
        "  mask_path = datapoint[1]\n",
        "  min_pixel_value = np.min(cv2.imread(mask_path))\n",
        "  max_pixel_value = np.max(cv2.imread(mask_path))\n",
        "  print('mask_path: ', mask_path)\n",
        "  print('Minimum pixel value: ', min_pixel_value)\n",
        "  print('Maximum pixel value: ', max_pixel_value)\n",
        "  print('*'*20)"
      ],
      "execution_count": null,
      "outputs": [
        {
          "output_type": "stream",
          "text": [
            "mask_path:  lgg-mri-segmentation/kaggle_3m/TCGA_DU_7010_19860307/TCGA_DU_7010_19860307_2_mask.tif\n",
            "Minimum pixel value:  0\n",
            "Maximum pixel value:  0\n",
            "********************\n",
            "mask_path:  lgg-mri-segmentation/kaggle_3m/TCGA_DU_5855_19951217/TCGA_DU_5855_19951217_2_mask.tif\n",
            "Minimum pixel value:  0\n",
            "Maximum pixel value:  0\n",
            "********************\n",
            "mask_path:  lgg-mri-segmentation/kaggle_3m/TCGA_CS_6188_20010812/TCGA_CS_6188_20010812_18_mask.tif\n",
            "Minimum pixel value:  0\n",
            "Maximum pixel value:  0\n",
            "********************\n",
            "mask_path:  lgg-mri-segmentation/kaggle_3m/TCGA_DU_7010_19860307/TCGA_DU_7010_19860307_56_mask.tif\n",
            "Minimum pixel value:  0\n",
            "Maximum pixel value:  0\n",
            "********************\n"
          ],
          "name": "stdout"
        }
      ]
    },
    {
      "cell_type": "markdown",
      "metadata": {
        "id": "UAB_RQnEFokO"
      },
      "source": [
        "**OBSERVATION:**\n",
        "\n",
        "* Here we can conclude that since the the pixel values of all the masks with negative values have been observed to be zero (0), hence we can pose this problem initially as binary classification based to segregate the positive and negative images and later perform segmentation on the positive ones"
      ]
    },
    {
      "cell_type": "markdown",
      "metadata": {
        "id": "kz64sYrtHgeV"
      },
      "source": [
        "## Data Preprocessing"
      ]
    },
    {
      "cell_type": "code",
      "metadata": {
        "id": "LarHoWchrvJZ",
        "outputId": "be9c10be-a8d4-4d39-fd10-bb24371abb3a",
        "colab": {
          "base_uri": "https://localhost:8080/",
          "height": 50
        }
      },
      "source": [
        "train_df, test_df = train_test_split(df, test_size=0.2, stratify=df['diagnosis'], random_state=42)\n",
        "print('train_df: ', train_df.shape)\n",
        "print('test_df: ', test_df.shape)"
      ],
      "execution_count": null,
      "outputs": [
        {
          "output_type": "stream",
          "text": [
            "train_df:  (3143, 3)\n",
            "test_df:  (786, 3)\n"
          ],
          "name": "stdout"
        }
      ]
    },
    {
      "cell_type": "code",
      "metadata": {
        "id": "dT1TQbQ21cb4"
      },
      "source": [
        "def plot_hist(df, text):\n",
        "\n",
        "  '''Function to generate the countplot of target-labels'''\n",
        "\n",
        "  plt.figure(figsize=(10,10))\n",
        "  plt.subplot(2,2,2)\n",
        "  plt.title(text)  \n",
        "  sns.countplot(x='diagnosis', data=df)\n",
        "  plt.show();"
      ],
      "execution_count": null,
      "outputs": []
    },
    {
      "cell_type": "code",
      "metadata": {
        "id": "hKRXIjJT1cAx",
        "outputId": "630ae99c-aa98-4ba5-d448-14e59107c545",
        "colab": {
          "base_uri": "https://localhost:8080/",
          "height": 325
        }
      },
      "source": [
        "plot_hist(train_df, 'Label Distribution for Train Dataset')"
      ],
      "execution_count": null,
      "outputs": [
        {
          "output_type": "display_data",
          "data": {
            "image/png": "[encoded data removed]",
            "text/plain": [
              "<Figure size 720x720 with 1 Axes>"
            ]
          },
          "metadata": {
            "tags": [],
            "needs_background": "light"
          }
        }
      ]
    },
    {
      "cell_type": "code",
      "metadata": {
        "id": "OqsIcE_61b_l",
        "outputId": "6e90b8f3-bbbd-46de-99fa-0276095fc3d2",
        "colab": {
          "base_uri": "https://localhost:8080/",
          "height": 325
        }
      },
      "source": [
        "plot_hist(test_df, 'Label Distribution for Test Dataset')"
      ],
      "execution_count": null,
      "outputs": [
        {
          "output_type": "display_data",
          "data": {
            "image/png": "[encoded data removed]",
            "text/plain": [
              "<Figure size 720x720 with 1 Axes>"
            ]
          },
          "metadata": {
            "tags": [],
            "needs_background": "light"
          }
        }
      ]
    },
    {
      "cell_type": "code",
      "metadata": {
        "id": "SALcyk2v8DIC",
        "outputId": "04df86ec-950c-4012-f5cf-615a5e3b09ee",
        "colab": {
          "base_uri": "https://localhost:8080/",
          "height": 84
        }
      },
      "source": [
        "train_images = np.asarray(train_df['images'])\n",
        "train_diagnosis = np.asarray(train_df['diagnosis'])\n",
        "test_images = np.asarray(test_df['images'])\n",
        "test_diagnosis = np.asarray(test_df['diagnosis'])\n",
        "print('train_images', len(train_images))\n",
        "print('train_diagnosis', len(train_diagnosis))\n",
        "print('test_images', len(test_images))\n",
        "print('test_diagnosis', len(test_diagnosis))"
      ],
      "execution_count": null,
      "outputs": [
        {
          "output_type": "stream",
          "text": [
            "train_images 3143\n",
            "train_diagnosis 3143\n",
            "test_images 786\n",
            "test_diagnosis 786\n"
          ],
          "name": "stdout"
        }
      ]
    },
    {
      "cell_type": "code",
      "metadata": {
        "id": "UrjJENsVRxQK"
      },
      "source": [
        "def parse_data(image_path, label):\n",
        "\n",
        "  '''Function to perform image-preprocessing'''\n",
        "\n",
        "  image = tf.io.read_file(image_path) #reads the image from the file path  \n",
        "  image = tfio.experimental.image.decode_tiff(image)  #decodes the tiff file   \n",
        "  image = tf.image.convert_image_dtype(image, tf.float32) #converts the float values in [0 1] interval\n",
        "  image = tf.image.resize(image, [256, 256]) # resizes the image\n",
        "  return image, label"
      ],
      "execution_count": null,
      "outputs": []
    },
    {
      "cell_type": "code",
      "metadata": {
        "id": "mYzVHrYYRxdu"
      },
      "source": [
        "def augment_data(image, label):\n",
        "\n",
        "  '''Function to perform data-augmentation'''\n",
        "\n",
        "  a = np.random.uniform()\n",
        "  if a<0.33:    \n",
        "    image = tf.image.random_flip_left_right(image)    \n",
        "  elif a<0.66:    \n",
        "    image = tf.image.random_flip_up_down(image)\n",
        "  else:    \n",
        "    image = tf.image.random_brightness(image, max_delta=32.0/255.0)\n",
        "    \n",
        "  image = tf.clip_by_value(image, 0.0, 1.0) #ensures the float values to be in [0 1] interval\n",
        "  return image, label"
      ],
      "execution_count": null,
      "outputs": []
    },
    {
      "cell_type": "code",
      "metadata": {
        "id": "ub026tD_eNuU"
      },
      "source": [
        "train_dataset = tf.data.Dataset.from_tensor_slices((tf.constant(train_images), tf.constant(train_diagnosis)))\n",
        "train_dataset = train_dataset.map(parse_data)\n",
        "train_dataset = train_dataset.map(augment_data)\n",
        "train_dataset = train_dataset.shuffle(len(train_images))\n",
        "train_dataset = train_dataset.batch(16)"
      ],
      "execution_count": null,
      "outputs": []
    },
    {
      "cell_type": "code",
      "metadata": {
        "id": "lfkk5qyieNmF",
        "outputId": "a8522519-686a-4d2c-926a-7d8982c6961e",
        "colab": {
          "base_uri": "https://localhost:8080/",
          "height": 50
        }
      },
      "source": [
        "sample_train_input, sample_train_target = next(iter(train_dataset))\n",
        "print('sample_train_input: ', sample_train_input.shape)\n",
        "print('sample_train_target: ', sample_train_target.shape)"
      ],
      "execution_count": null,
      "outputs": [
        {
          "output_type": "stream",
          "text": [
            "sample_train_input:  (16, 256, 256, 4)\n",
            "sample_train_target:  (16,)\n"
          ],
          "name": "stdout"
        }
      ]
    },
    {
      "cell_type": "code",
      "metadata": {
        "id": "OytUCVTHRxWG"
      },
      "source": [
        "test_dataset = tf.data.Dataset.from_tensor_slices((tf.constant(test_images), tf.constant(test_diagnosis)))\n",
        "test_dataset = test_dataset.map(parse_data)\n",
        "test_dataset = test_dataset.batch(16)"
      ],
      "execution_count": null,
      "outputs": []
    },
    {
      "cell_type": "code",
      "metadata": {
        "id": "cWztcf0GRxU2",
        "outputId": "078d3b3d-1d7d-4347-b0db-4335cfa3660d",
        "colab": {
          "base_uri": "https://localhost:8080/",
          "height": 50
        }
      },
      "source": [
        "sample_test_input, sample_test_target = next(iter(test_dataset))\n",
        "print('sample_test_input: ', sample_test_input.shape)\n",
        "print('sample_test_target: ', sample_test_target.shape)"
      ],
      "execution_count": null,
      "outputs": [
        {
          "output_type": "stream",
          "text": [
            "sample_test_input:  (16, 256, 256, 4)\n",
            "sample_test_target:  (16,)\n"
          ],
          "name": "stdout"
        }
      ]
    },
    {
      "cell_type": "markdown",
      "metadata": {
        "id": "3-esB3VkUTLx"
      },
      "source": [
        "## Model Building & Training"
      ]
    },
    {
      "cell_type": "code",
      "metadata": {
        "id": "d4OpIb8IuHwH"
      },
      "source": [
        "# https://github.com/sandgate-dev/coding-practice/blob/master/coding/ml-dl/tensorfow/ch3-xception/implementation-of-xception-model.md\n",
        "\n",
        "def conv_block(x, filters, block_num, conv_num, strides=(1,1)):\n",
        "    name = 'block{}_conv{}_'.format(block_num, conv_num)\n",
        "\n",
        "    # conv-BN-relu\n",
        "    x = Conv2D(filters, (3,3), strides=(2,2), use_bias=False, name=name)(x)\n",
        "    x = BatchNormalization(name=name+'bn')(x)\n",
        "    x = Activation('relu', name=name+'act')(x)\n",
        "\n",
        "    return x\n",
        "\n",
        "def separable_conv_block(x, filters, block_num, conv_num, pre_activation=None):\n",
        "    name = 'block{}_sepconv{}_'.format(block_num, conv_num)\n",
        "\n",
        "    if pre_activation is True:\n",
        "        x = Activation('relu', name=name+'act')(x)\n",
        "\n",
        "    # (relu)-sepconv-BN-(relu)\n",
        "    x = SeparableConv2D(filters, (3,3), padding='same', use_bias=False, name=name)(x)\n",
        "    x = BatchNormalization(name=name+'bn')(x)\n",
        "\n",
        "    if pre_activation is False:\n",
        "        x = Activation('relu', name=name+'act')(x)\n",
        "\n",
        "    return x\n",
        "\n",
        "def middle_flow_block(x, filters, block_num):    \n",
        "    # middle flow\n",
        "    residual = x\n",
        "\n",
        "    x = separable_conv_block(x, filters, block_num=block_num, conv_num='1', pre_activation=True)\n",
        "    x = separable_conv_block(x, filters, block_num=block_num, conv_num='2', pre_activation=True)\n",
        "    x = separable_conv_block(x, filters, block_num=block_num, conv_num='3', pre_activation=True)\n",
        "\n",
        "    return layers.add([x, residual])\n",
        "\n",
        "def xception_block(x, filters, block_num, pre_activation=True):\n",
        "    block = 'block{}_'.format(block_num)\n",
        "    filter_conv1, filter_conv2 = filters\n",
        "\n",
        "    # residual conv branch\n",
        "    residual = Conv2D(filter_conv2, (1, 1), strides=(2, 2),padding='same', use_bias=False)(x)\n",
        "    residual = BatchNormalization()(residual)\n",
        "\n",
        "    # separable conv block\n",
        "    x = separable_conv_block(x, filter_conv1, block_num=block_num, conv_num='1', pre_activation=pre_activation)\n",
        "    x = separable_conv_block(x, filter_conv2, block_num=block_num, conv_num='2', pre_activation=True)\n",
        "\n",
        "    # downsampling and merging\n",
        "    x = layers.MaxPooling2D((3, 3), strides=(2, 2), padding='same', name=block+'pool')(x)\n",
        "\n",
        "    return layers.add([x, residual])\n",
        "\n",
        "def Modified_Xception(input_shape=(256,256,4), classes=1):\n",
        "    \"\"\"Instantiates the Xception architecture.\n",
        "    \"\"\"\n",
        "\n",
        "    img_input = Input(shape=input_shape)\n",
        "\n",
        "    #===========ENTRY FLOW==============\n",
        "    #Block 1\n",
        "    x = conv_block(img_input, 32, block_num='1', conv_num='1', strides=(2,2))\n",
        "    x = conv_block(x, 64, block_num='1', conv_num='2')\n",
        "\n",
        "    #Block 2\n",
        "    x = xception_block(x, (128, 128), '2', pre_activation=False)\n",
        "\n",
        "    #Block 3\n",
        "    x = xception_block(x, (256, 256), '3')\n",
        "\n",
        "    #Block 4\n",
        "    x = xception_block(x, (728, 728), '4')\n",
        "\n",
        "\n",
        "    #===========MIDDLE FLOW===============\n",
        "    for i in range(8):\n",
        "        block_num = str(5+i)\n",
        "        x = middle_flow_block(x, 728, block_num)\n",
        "\n",
        "    #========EXIT FLOW============\n",
        "    #Block 13\n",
        "    x = xception_block(x, (728, 1024), '13') # second conv is different\n",
        "\n",
        "    # Block 14\n",
        "    x = separable_conv_block(x, 1536, block_num='14', conv_num='1', pre_activation=False)\n",
        "    x = separable_conv_block(x, 2048, block_num='14', conv_num='2', pre_activation=False)\n",
        "\n",
        "    # logistic regression\n",
        "    x = layers.GlobalAveragePooling2D(name='avg_pool')(x)    \n",
        "\n",
        "    # custom layers\n",
        "    x = Dense(1024, activation='relu', kernel_initializer='he_normal', name='dense_layer_1')(x)\n",
        "    x = BatchNormalization(name='bn_layer_1')(x)\n",
        "    x = Dropout(0.8, name='dropout_layer_1')(x)\n",
        "\n",
        "    x = Dense(512, activation='relu', kernel_initializer='he_normal', name='dense_layer_2')(x)\n",
        "    x = BatchNormalization(name='bn_layer_2')(x)\n",
        "    x = Dropout(0.8, name='dropout_layer_2')(x)\n",
        "\n",
        "    x = Dense(64, activation='relu', kernel_initializer='he_normal', name='dense_layer_3')(x)\n",
        "    x = Dense(1, activation='sigmoid', name='predictions')(x)\n",
        "\n",
        "    # Create model.\n",
        "    model = Model(inputs=img_input, outputs=x, name='modified_xception')\n",
        "    return model"
      ],
      "execution_count": null,
      "outputs": []
    },
    {
      "cell_type": "code",
      "metadata": {
        "id": "8wgHiyFEuINc",
        "outputId": "d7b72a37-0623-4d65-ac27-1394e4672042",
        "colab": {
          "base_uri": "https://localhost:8080/",
          "height": 1000
        }
      },
      "source": [
        "model = Modified_Xception()\n",
        "model.summary()"
      ],
      "execution_count": null,
      "outputs": [
        {
          "output_type": "stream",
          "text": [
            "Model: \"modified_xception\"\n",
            "__________________________________________________________________________________________________\n",
            "Layer (type)                    Output Shape         Param #     Connected to                     \n",
            "==================================================================================================\n",
            "input_1 (InputLayer)            [(None, 256, 256, 4) 0                                            \n",
            "__________________________________________________________________________________________________\n",
            "block1_conv1_ (Conv2D)          (None, 127, 127, 32) 1152        input_1[0][0]                    \n",
            "__________________________________________________________________________________________________\n",
            "block1_conv1_bn (BatchNormaliza (None, 127, 127, 32) 128         block1_conv1_[0][0]              \n",
            "__________________________________________________________________________________________________\n",
            "block1_conv1_act (Activation)   (None, 127, 127, 32) 0           block1_conv1_bn[0][0]            \n",
            "__________________________________________________________________________________________________\n",
            "block1_conv2_ (Conv2D)          (None, 63, 63, 64)   18432       block1_conv1_act[0][0]           \n",
            "__________________________________________________________________________________________________\n",
            "block1_conv2_bn (BatchNormaliza (None, 63, 63, 64)   256         block1_conv2_[0][0]              \n",
            "__________________________________________________________________________________________________\n",
            "block1_conv2_act (Activation)   (None, 63, 63, 64)   0           block1_conv2_bn[0][0]            \n",
            "__________________________________________________________________________________________________\n",
            "block2_sepconv1_ (SeparableConv (None, 63, 63, 128)  8768        block1_conv2_act[0][0]           \n",
            "__________________________________________________________________________________________________\n",
            "block2_sepconv1_bn (BatchNormal (None, 63, 63, 128)  512         block2_sepconv1_[0][0]           \n",
            "__________________________________________________________________________________________________\n",
            "block2_sepconv1_act (Activation (None, 63, 63, 128)  0           block2_sepconv1_bn[0][0]         \n",
            "__________________________________________________________________________________________________\n",
            "block2_sepconv2_act (Activation (None, 63, 63, 128)  0           block2_sepconv1_act[0][0]        \n",
            "__________________________________________________________________________________________________\n",
            "block2_sepconv2_ (SeparableConv (None, 63, 63, 128)  17536       block2_sepconv2_act[0][0]        \n",
            "__________________________________________________________________________________________________\n",
            "block2_sepconv2_bn (BatchNormal (None, 63, 63, 128)  512         block2_sepconv2_[0][0]           \n",
            "__________________________________________________________________________________________________\n",
            "conv2d (Conv2D)                 (None, 32, 32, 128)  8192        block1_conv2_act[0][0]           \n",
            "__________________________________________________________________________________________________\n",
            "block2_pool (MaxPooling2D)      (None, 32, 32, 128)  0           block2_sepconv2_bn[0][0]         \n",
            "__________________________________________________________________________________________________\n",
            "batch_normalization (BatchNorma (None, 32, 32, 128)  512         conv2d[0][0]                     \n",
            "__________________________________________________________________________________________________\n",
            "add (Add)                       (None, 32, 32, 128)  0           block2_pool[0][0]                \n",
            "                                                                 batch_normalization[0][0]        \n",
            "__________________________________________________________________________________________________\n",
            "block3_sepconv1_act (Activation (None, 32, 32, 128)  0           add[0][0]                        \n",
            "__________________________________________________________________________________________________\n",
            "block3_sepconv1_ (SeparableConv (None, 32, 32, 256)  33920       block3_sepconv1_act[0][0]        \n",
            "__________________________________________________________________________________________________\n",
            "block3_sepconv1_bn (BatchNormal (None, 32, 32, 256)  1024        block3_sepconv1_[0][0]           \n",
            "__________________________________________________________________________________________________\n",
            "block3_sepconv2_act (Activation (None, 32, 32, 256)  0           block3_sepconv1_bn[0][0]         \n",
            "__________________________________________________________________________________________________\n",
            "block3_sepconv2_ (SeparableConv (None, 32, 32, 256)  67840       block3_sepconv2_act[0][0]        \n",
            "__________________________________________________________________________________________________\n",
            "block3_sepconv2_bn (BatchNormal (None, 32, 32, 256)  1024        block3_sepconv2_[0][0]           \n",
            "__________________________________________________________________________________________________\n",
            "conv2d_1 (Conv2D)               (None, 16, 16, 256)  32768       add[0][0]                        \n",
            "__________________________________________________________________________________________________\n",
            "block3_pool (MaxPooling2D)      (None, 16, 16, 256)  0           block3_sepconv2_bn[0][0]         \n",
            "__________________________________________________________________________________________________\n",
            "batch_normalization_1 (BatchNor (None, 16, 16, 256)  1024        conv2d_1[0][0]                   \n",
            "__________________________________________________________________________________________________\n",
            "add_1 (Add)                     (None, 16, 16, 256)  0           block3_pool[0][0]                \n",
            "                                                                 batch_normalization_1[0][0]      \n",
            "__________________________________________________________________________________________________\n",
            "block4_sepconv1_act (Activation (None, 16, 16, 256)  0           add_1[0][0]                      \n",
            "__________________________________________________________________________________________________\n",
            "block4_sepconv1_ (SeparableConv (None, 16, 16, 728)  188672      block4_sepconv1_act[0][0]        \n",
            "__________________________________________________________________________________________________\n",
            "block4_sepconv1_bn (BatchNormal (None, 16, 16, 728)  2912        block4_sepconv1_[0][0]           \n",
            "__________________________________________________________________________________________________\n",
            "block4_sepconv2_act (Activation (None, 16, 16, 728)  0           block4_sepconv1_bn[0][0]         \n",
            "__________________________________________________________________________________________________\n",
            "block4_sepconv2_ (SeparableConv (None, 16, 16, 728)  536536      block4_sepconv2_act[0][0]        \n",
            "__________________________________________________________________________________________________\n",
            "block4_sepconv2_bn (BatchNormal (None, 16, 16, 728)  2912        block4_sepconv2_[0][0]           \n",
            "__________________________________________________________________________________________________\n",
            "conv2d_2 (Conv2D)               (None, 8, 8, 728)    186368      add_1[0][0]                      \n",
            "__________________________________________________________________________________________________\n",
            "block4_pool (MaxPooling2D)      (None, 8, 8, 728)    0           block4_sepconv2_bn[0][0]         \n",
            "__________________________________________________________________________________________________\n",
            "batch_normalization_2 (BatchNor (None, 8, 8, 728)    2912        conv2d_2[0][0]                   \n",
            "__________________________________________________________________________________________________\n",
            "add_2 (Add)                     (None, 8, 8, 728)    0           block4_pool[0][0]                \n",
            "                                                                 batch_normalization_2[0][0]      \n",
            "__________________________________________________________________________________________________\n",
            "block5_sepconv1_act (Activation (None, 8, 8, 728)    0           add_2[0][0]                      \n",
            "__________________________________________________________________________________________________\n",
            "block5_sepconv1_ (SeparableConv (None, 8, 8, 728)    536536      block5_sepconv1_act[0][0]        \n",
            "__________________________________________________________________________________________________\n",
            "block5_sepconv1_bn (BatchNormal (None, 8, 8, 728)    2912        block5_sepconv1_[0][0]           \n",
            "__________________________________________________________________________________________________\n",
            "block5_sepconv2_act (Activation (None, 8, 8, 728)    0           block5_sepconv1_bn[0][0]         \n",
            "__________________________________________________________________________________________________\n",
            "block5_sepconv2_ (SeparableConv (None, 8, 8, 728)    536536      block5_sepconv2_act[0][0]        \n",
            "__________________________________________________________________________________________________\n",
            "block5_sepconv2_bn (BatchNormal (None, 8, 8, 728)    2912        block5_sepconv2_[0][0]           \n",
            "__________________________________________________________________________________________________\n",
            "block5_sepconv3_act (Activation (None, 8, 8, 728)    0           block5_sepconv2_bn[0][0]         \n",
            "__________________________________________________________________________________________________\n",
            "block5_sepconv3_ (SeparableConv (None, 8, 8, 728)    536536      block5_sepconv3_act[0][0]        \n",
            "__________________________________________________________________________________________________\n",
            "block5_sepconv3_bn (BatchNormal (None, 8, 8, 728)    2912        block5_sepconv3_[0][0]           \n",
            "__________________________________________________________________________________________________\n",
            "add_3 (Add)                     (None, 8, 8, 728)    0           block5_sepconv3_bn[0][0]         \n",
            "                                                                 add_2[0][0]                      \n",
            "__________________________________________________________________________________________________\n",
            "block6_sepconv1_act (Activation (None, 8, 8, 728)    0           add_3[0][0]                      \n",
            "__________________________________________________________________________________________________\n",
            "block6_sepconv1_ (SeparableConv (None, 8, 8, 728)    536536      block6_sepconv1_act[0][0]        \n",
            "__________________________________________________________________________________________________\n",
            "block6_sepconv1_bn (BatchNormal (None, 8, 8, 728)    2912        block6_sepconv1_[0][0]           \n",
            "__________________________________________________________________________________________________\n",
            "block6_sepconv2_act (Activation (None, 8, 8, 728)    0           block6_sepconv1_bn[0][0]         \n",
            "__________________________________________________________________________________________________\n",
            "block6_sepconv2_ (SeparableConv (None, 8, 8, 728)    536536      block6_sepconv2_act[0][0]        \n",
            "__________________________________________________________________________________________________\n",
            "block6_sepconv2_bn (BatchNormal (None, 8, 8, 728)    2912        block6_sepconv2_[0][0]           \n",
            "__________________________________________________________________________________________________\n",
            "block6_sepconv3_act (Activation (None, 8, 8, 728)    0           block6_sepconv2_bn[0][0]         \n",
            "__________________________________________________________________________________________________\n",
            "block6_sepconv3_ (SeparableConv (None, 8, 8, 728)    536536      block6_sepconv3_act[0][0]        \n",
            "__________________________________________________________________________________________________\n",
            "block6_sepconv3_bn (BatchNormal (None, 8, 8, 728)    2912        block6_sepconv3_[0][0]           \n",
            "__________________________________________________________________________________________________\n",
            "add_4 (Add)                     (None, 8, 8, 728)    0           block6_sepconv3_bn[0][0]         \n",
            "                                                                 add_3[0][0]                      \n",
            "__________________________________________________________________________________________________\n",
            "block7_sepconv1_act (Activation (None, 8, 8, 728)    0           add_4[0][0]                      \n",
            "__________________________________________________________________________________________________\n",
            "block7_sepconv1_ (SeparableConv (None, 8, 8, 728)    536536      block7_sepconv1_act[0][0]        \n",
            "__________________________________________________________________________________________________\n",
            "block7_sepconv1_bn (BatchNormal (None, 8, 8, 728)    2912        block7_sepconv1_[0][0]           \n",
            "__________________________________________________________________________________________________\n",
            "block7_sepconv2_act (Activation (None, 8, 8, 728)    0           block7_sepconv1_bn[0][0]         \n",
            "__________________________________________________________________________________________________\n",
            "block7_sepconv2_ (SeparableConv (None, 8, 8, 728)    536536      block7_sepconv2_act[0][0]        \n",
            "__________________________________________________________________________________________________\n",
            "block7_sepconv2_bn (BatchNormal (None, 8, 8, 728)    2912        block7_sepconv2_[0][0]           \n",
            "__________________________________________________________________________________________________\n",
            "block7_sepconv3_act (Activation (None, 8, 8, 728)    0           block7_sepconv2_bn[0][0]         \n",
            "__________________________________________________________________________________________________\n",
            "block7_sepconv3_ (SeparableConv (None, 8, 8, 728)    536536      block7_sepconv3_act[0][0]        \n",
            "__________________________________________________________________________________________________\n",
            "block7_sepconv3_bn (BatchNormal (None, 8, 8, 728)    2912        block7_sepconv3_[0][0]           \n",
            "__________________________________________________________________________________________________\n",
            "add_5 (Add)                     (None, 8, 8, 728)    0           block7_sepconv3_bn[0][0]         \n",
            "                                                                 add_4[0][0]                      \n",
            "__________________________________________________________________________________________________\n",
            "block8_sepconv1_act (Activation (None, 8, 8, 728)    0           add_5[0][0]                      \n",
            "__________________________________________________________________________________________________\n",
            "block8_sepconv1_ (SeparableConv (None, 8, 8, 728)    536536      block8_sepconv1_act[0][0]        \n",
            "__________________________________________________________________________________________________\n",
            "block8_sepconv1_bn (BatchNormal (None, 8, 8, 728)    2912        block8_sepconv1_[0][0]           \n",
            "__________________________________________________________________________________________________\n",
            "block8_sepconv2_act (Activation (None, 8, 8, 728)    0           block8_sepconv1_bn[0][0]         \n",
            "__________________________________________________________________________________________________\n",
            "block8_sepconv2_ (SeparableConv (None, 8, 8, 728)    536536      block8_sepconv2_act[0][0]        \n",
            "__________________________________________________________________________________________________\n",
            "block8_sepconv2_bn (BatchNormal (None, 8, 8, 728)    2912        block8_sepconv2_[0][0]           \n",
            "__________________________________________________________________________________________________\n",
            "block8_sepconv3_act (Activation (None, 8, 8, 728)    0           block8_sepconv2_bn[0][0]         \n",
            "__________________________________________________________________________________________________\n",
            "block8_sepconv3_ (SeparableConv (None, 8, 8, 728)    536536      block8_sepconv3_act[0][0]        \n",
            "__________________________________________________________________________________________________\n",
            "block8_sepconv3_bn (BatchNormal (None, 8, 8, 728)    2912        block8_sepconv3_[0][0]           \n",
            "__________________________________________________________________________________________________\n",
            "add_6 (Add)                     (None, 8, 8, 728)    0           block8_sepconv3_bn[0][0]         \n",
            "                                                                 add_5[0][0]                      \n",
            "__________________________________________________________________________________________________\n",
            "block9_sepconv1_act (Activation (None, 8, 8, 728)    0           add_6[0][0]                      \n",
            "__________________________________________________________________________________________________\n",
            "block9_sepconv1_ (SeparableConv (None, 8, 8, 728)    536536      block9_sepconv1_act[0][0]        \n",
            "__________________________________________________________________________________________________\n",
            "block9_sepconv1_bn (BatchNormal (None, 8, 8, 728)    2912        block9_sepconv1_[0][0]           \n",
            "__________________________________________________________________________________________________\n",
            "block9_sepconv2_act (Activation (None, 8, 8, 728)    0           block9_sepconv1_bn[0][0]         \n",
            "__________________________________________________________________________________________________\n",
            "block9_sepconv2_ (SeparableConv (None, 8, 8, 728)    536536      block9_sepconv2_act[0][0]        \n",
            "__________________________________________________________________________________________________\n",
            "block9_sepconv2_bn (BatchNormal (None, 8, 8, 728)    2912        block9_sepconv2_[0][0]           \n",
            "__________________________________________________________________________________________________\n",
            "block9_sepconv3_act (Activation (None, 8, 8, 728)    0           block9_sepconv2_bn[0][0]         \n",
            "__________________________________________________________________________________________________\n",
            "block9_sepconv3_ (SeparableConv (None, 8, 8, 728)    536536      block9_sepconv3_act[0][0]        \n",
            "__________________________________________________________________________________________________\n",
            "block9_sepconv3_bn (BatchNormal (None, 8, 8, 728)    2912        block9_sepconv3_[0][0]           \n",
            "__________________________________________________________________________________________________\n",
            "add_7 (Add)                     (None, 8, 8, 728)    0           block9_sepconv3_bn[0][0]         \n",
            "                                                                 add_6[0][0]                      \n",
            "__________________________________________________________________________________________________\n",
            "block10_sepconv1_act (Activatio (None, 8, 8, 728)    0           add_7[0][0]                      \n",
            "__________________________________________________________________________________________________\n",
            "block10_sepconv1_ (SeparableCon (None, 8, 8, 728)    536536      block10_sepconv1_act[0][0]       \n",
            "__________________________________________________________________________________________________\n",
            "block10_sepconv1_bn (BatchNorma (None, 8, 8, 728)    2912        block10_sepconv1_[0][0]          \n",
            "__________________________________________________________________________________________________\n",
            "block10_sepconv2_act (Activatio (None, 8, 8, 728)    0           block10_sepconv1_bn[0][0]        \n",
            "__________________________________________________________________________________________________\n",
            "block10_sepconv2_ (SeparableCon (None, 8, 8, 728)    536536      block10_sepconv2_act[0][0]       \n",
            "__________________________________________________________________________________________________\n",
            "block10_sepconv2_bn (BatchNorma (None, 8, 8, 728)    2912        block10_sepconv2_[0][0]          \n",
            "__________________________________________________________________________________________________\n",
            "block10_sepconv3_act (Activatio (None, 8, 8, 728)    0           block10_sepconv2_bn[0][0]        \n",
            "__________________________________________________________________________________________________\n",
            "block10_sepconv3_ (SeparableCon (None, 8, 8, 728)    536536      block10_sepconv3_act[0][0]       \n",
            "__________________________________________________________________________________________________\n",
            "block10_sepconv3_bn (BatchNorma (None, 8, 8, 728)    2912        block10_sepconv3_[0][0]          \n",
            "__________________________________________________________________________________________________\n",
            "add_8 (Add)                     (None, 8, 8, 728)    0           block10_sepconv3_bn[0][0]        \n",
            "                                                                 add_7[0][0]                      \n",
            "__________________________________________________________________________________________________\n",
            "block11_sepconv1_act (Activatio (None, 8, 8, 728)    0           add_8[0][0]                      \n",
            "__________________________________________________________________________________________________\n",
            "block11_sepconv1_ (SeparableCon (None, 8, 8, 728)    536536      block11_sepconv1_act[0][0]       \n",
            "__________________________________________________________________________________________________\n",
            "block11_sepconv1_bn (BatchNorma (None, 8, 8, 728)    2912        block11_sepconv1_[0][0]          \n",
            "__________________________________________________________________________________________________\n",
            "block11_sepconv2_act (Activatio (None, 8, 8, 728)    0           block11_sepconv1_bn[0][0]        \n",
            "__________________________________________________________________________________________________\n",
            "block11_sepconv2_ (SeparableCon (None, 8, 8, 728)    536536      block11_sepconv2_act[0][0]       \n",
            "__________________________________________________________________________________________________\n",
            "block11_sepconv2_bn (BatchNorma (None, 8, 8, 728)    2912        block11_sepconv2_[0][0]          \n",
            "__________________________________________________________________________________________________\n",
            "block11_sepconv3_act (Activatio (None, 8, 8, 728)    0           block11_sepconv2_bn[0][0]        \n",
            "__________________________________________________________________________________________________\n",
            "block11_sepconv3_ (SeparableCon (None, 8, 8, 728)    536536      block11_sepconv3_act[0][0]       \n",
            "__________________________________________________________________________________________________\n",
            "block11_sepconv3_bn (BatchNorma (None, 8, 8, 728)    2912        block11_sepconv3_[0][0]          \n",
            "__________________________________________________________________________________________________\n",
            "add_9 (Add)                     (None, 8, 8, 728)    0           block11_sepconv3_bn[0][0]        \n",
            "                                                                 add_8[0][0]                      \n",
            "__________________________________________________________________________________________________\n",
            "block12_sepconv1_act (Activatio (None, 8, 8, 728)    0           add_9[0][0]                      \n",
            "__________________________________________________________________________________________________\n",
            "block12_sepconv1_ (SeparableCon (None, 8, 8, 728)    536536      block12_sepconv1_act[0][0]       \n",
            "__________________________________________________________________________________________________\n",
            "block12_sepconv1_bn (BatchNorma (None, 8, 8, 728)    2912        block12_sepconv1_[0][0]          \n",
            "__________________________________________________________________________________________________\n",
            "block12_sepconv2_act (Activatio (None, 8, 8, 728)    0           block12_sepconv1_bn[0][0]        \n",
            "__________________________________________________________________________________________________\n",
            "block12_sepconv2_ (SeparableCon (None, 8, 8, 728)    536536      block12_sepconv2_act[0][0]       \n",
            "__________________________________________________________________________________________________\n",
            "block12_sepconv2_bn (BatchNorma (None, 8, 8, 728)    2912        block12_sepconv2_[0][0]          \n",
            "__________________________________________________________________________________________________\n",
            "block12_sepconv3_act (Activatio (None, 8, 8, 728)    0           block12_sepconv2_bn[0][0]        \n",
            "__________________________________________________________________________________________________\n",
            "block12_sepconv3_ (SeparableCon (None, 8, 8, 728)    536536      block12_sepconv3_act[0][0]       \n",
            "__________________________________________________________________________________________________\n",
            "block12_sepconv3_bn (BatchNorma (None, 8, 8, 728)    2912        block12_sepconv3_[0][0]          \n",
            "__________________________________________________________________________________________________\n",
            "add_10 (Add)                    (None, 8, 8, 728)    0           block12_sepconv3_bn[0][0]        \n",
            "                                                                 add_9[0][0]                      \n",
            "__________________________________________________________________________________________________\n",
            "block13_sepconv1_act (Activatio (None, 8, 8, 728)    0           add_10[0][0]                     \n",
            "__________________________________________________________________________________________________\n",
            "block13_sepconv1_ (SeparableCon (None, 8, 8, 728)    536536      block13_sepconv1_act[0][0]       \n",
            "__________________________________________________________________________________________________\n",
            "block13_sepconv1_bn (BatchNorma (None, 8, 8, 728)    2912        block13_sepconv1_[0][0]          \n",
            "__________________________________________________________________________________________________\n",
            "block13_sepconv2_act (Activatio (None, 8, 8, 728)    0           block13_sepconv1_bn[0][0]        \n",
            "__________________________________________________________________________________________________\n",
            "block13_sepconv2_ (SeparableCon (None, 8, 8, 1024)   752024      block13_sepconv2_act[0][0]       \n",
            "__________________________________________________________________________________________________\n",
            "block13_sepconv2_bn (BatchNorma (None, 8, 8, 1024)   4096        block13_sepconv2_[0][0]          \n",
            "__________________________________________________________________________________________________\n",
            "conv2d_3 (Conv2D)               (None, 4, 4, 1024)   745472      add_10[0][0]                     \n",
            "__________________________________________________________________________________________________\n",
            "block13_pool (MaxPooling2D)     (None, 4, 4, 1024)   0           block13_sepconv2_bn[0][0]        \n",
            "__________________________________________________________________________________________________\n",
            "batch_normalization_3 (BatchNor (None, 4, 4, 1024)   4096        conv2d_3[0][0]                   \n",
            "__________________________________________________________________________________________________\n",
            "add_11 (Add)                    (None, 4, 4, 1024)   0           block13_pool[0][0]               \n",
            "                                                                 batch_normalization_3[0][0]      \n",
            "__________________________________________________________________________________________________\n",
            "block14_sepconv1_ (SeparableCon (None, 4, 4, 1536)   1582080     add_11[0][0]                     \n",
            "__________________________________________________________________________________________________\n",
            "block14_sepconv1_bn (BatchNorma (None, 4, 4, 1536)   6144        block14_sepconv1_[0][0]          \n",
            "__________________________________________________________________________________________________\n",
            "block14_sepconv1_act (Activatio (None, 4, 4, 1536)   0           block14_sepconv1_bn[0][0]        \n",
            "__________________________________________________________________________________________________\n",
            "block14_sepconv2_ (SeparableCon (None, 4, 4, 2048)   3159552     block14_sepconv1_act[0][0]       \n",
            "__________________________________________________________________________________________________\n",
            "block14_sepconv2_bn (BatchNorma (None, 4, 4, 2048)   8192        block14_sepconv2_[0][0]          \n",
            "__________________________________________________________________________________________________\n",
            "block14_sepconv2_act (Activatio (None, 4, 4, 2048)   0           block14_sepconv2_bn[0][0]        \n",
            "__________________________________________________________________________________________________\n",
            "avg_pool (GlobalAveragePooling2 (None, 2048)         0           block14_sepconv2_act[0][0]       \n",
            "__________________________________________________________________________________________________\n",
            "dense_layer_1 (Dense)           (None, 1024)         2098176     avg_pool[0][0]                   \n",
            "__________________________________________________________________________________________________\n",
            "bn_layer_1 (BatchNormalization) (None, 1024)         4096        dense_layer_1[0][0]              \n",
            "__________________________________________________________________________________________________\n",
            "dropout_layer_1 (Dropout)       (None, 1024)         0           bn_layer_1[0][0]                 \n",
            "__________________________________________________________________________________________________\n",
            "dense_layer_2 (Dense)           (None, 512)          524800      dropout_layer_1[0][0]            \n",
            "__________________________________________________________________________________________________\n",
            "bn_layer_2 (BatchNormalization) (None, 512)          2048        dense_layer_2[0][0]              \n",
            "__________________________________________________________________________________________________\n",
            "dropout_layer_2 (Dropout)       (None, 512)          0           bn_layer_2[0][0]                 \n",
            "__________________________________________________________________________________________________\n",
            "dense_layer_3 (Dense)           (None, 64)           32832       dropout_layer_2[0][0]            \n",
            "__________________________________________________________________________________________________\n",
            "predictions (Dense)             (None, 1)            65          dense_layer_3[0][0]              \n",
            "==================================================================================================\n",
            "Total params: 23,523,785\n",
            "Trainable params: 23,466,185\n",
            "Non-trainable params: 57,600\n",
            "__________________________________________________________________________________________________\n"
          ],
          "name": "stdout"
        }
      ]
    },
    {
      "cell_type": "markdown",
      "metadata": {
        "id": "ntxsMP7Asnwk"
      },
      "source": [
        "**NOTE:**\n",
        "  \n",
        "  *   **RECALL:** Out of all the actual positive points, the recall function will determine what percentage of them are predicted to be positive by the model\n",
        "  *   **PRECISION:** Out of all the points the model predicted to be positive, the precision function will determine what percentage of them are actually positive\n",
        "  *   **F1-SCORE:** Since we want both the recall and the precision to be high, so we shall monitor the F1-Score too which should also be high"
      ]
    },
    {
      "cell_type": "code",
      "metadata": {
        "id": "QMIrKQS3-lF_"
      },
      "source": [
        "# https://stackoverflow.com/questions/59196793/why-are-my-metrics-of-my-cnn-not-changing-with-each-epoch\n",
        "\n",
        "def recall_m(y_true, y_pred):\n",
        "    '''\n",
        "    This function returns recall_score between y_true and y_pred\n",
        "    This function is ported as a metric to the Neural Network Models\n",
        "    Keras backend is used to take care of batch type training, the metric takes in a batch of y_pred and corresponding y_pred \n",
        "    as input and returns recall score of the batch\n",
        "    '''\n",
        "    true_positives = K.sum(K.round(K.clip(y_true * y_pred, 0, 1))) # calculates number of true positives\n",
        "    possible_positives = K.sum(K.round(K.clip(y_true, 0, 1)))      # calculates number of actual positives\n",
        "    recall = true_positives / (possible_positives + K.epsilon())   # K.epsilon takes care of non-zero divisions\n",
        "    return recall\n",
        "\n",
        "def precision_m(y_true, y_pred):\n",
        "    '''\n",
        "    This function returns precison_score between y_true and y_pred\n",
        "    This function is ported as a metric to the Neural Network Models\n",
        "    Keras backend is used to take care of batch type training, the metric takes in a batch of y_pred and corresponding y_pred \n",
        "    as input and returns prediction score of the batch\n",
        "    '''\n",
        "    true_positives = K.sum(K.round(K.clip(y_true * y_pred, 0, 1)))  # calculates number of true positives\n",
        "    predicted_positives = K.sum(K.round(K.clip(y_pred, 0, 1)))      # calculates number of predicted positives   \n",
        "    precision = true_positives /(predicted_positives + K.epsilon()) # K.epsilon takes care of non-zero divisions\n",
        "    return precision\n",
        "\n",
        "def f1_score_m(y_true, y_pred):\n",
        "    '''\n",
        "    This function returns f1_score between y_true and y_pred\n",
        "    This \n",
        "    This function is ported as a metric to the Neural Network Models\n",
        "    Keras backend is used to take care of batch type training, the metric takes in a batch of y_pred and corresponding y_pred \n",
        "    as input and returns f1 score of the batch\n",
        "    '''\n",
        "    precision = precision_m(y_true, y_pred)  # calls precision metric and takes the score of precision of the batch\n",
        "    recall = recall_m(y_true, y_pred)        # calls recall metric and takes the score of precision of the batch\n",
        "    return 2*((precision*recall)/(precision+recall+K.epsilon()))"
      ],
      "execution_count": null,
      "outputs": []
    },
    {
      "cell_type": "code",
      "metadata": {
        "id": "fAnCGGhV-lDi"
      },
      "source": [
        "filepath = \"/content/gdrive/My Drive/brain_mri/xception_model_epochs:{epoch:03d}-val_accuracy:{val_accuracy:.3f}.h5\"\n",
        "checkpoint = ModelCheckpoint(filepath, monitor=\"val_accuracy\", save_best_only=True, verbose=1)"
      ],
      "execution_count": null,
      "outputs": []
    },
    {
      "cell_type": "code",
      "metadata": {
        "id": "tQpD7Ulu-lBe"
      },
      "source": [
        "log_dir = \"/content/gdrive/My Drive/brain_mri/logs/\" + datetime.datetime.now().strftime(\"%Y%m%d-%H%M%S\")\n",
        "tensorboard = TensorBoard(log_dir=log_dir, histogram_freq=1, write_graph=True, profile_batch=0)"
      ],
      "execution_count": null,
      "outputs": []
    },
    {
      "cell_type": "code",
      "metadata": {
        "id": "JJaEINk3dlY7"
      },
      "source": [
        "early_stopping = EarlyStopping(monitor='val_accuracy', patience=10, verbose=1)"
      ],
      "execution_count": null,
      "outputs": []
    },
    {
      "cell_type": "code",
      "metadata": {
        "id": "kr_Yb0LZdmPC"
      },
      "source": [
        "callback_list = [checkpoint, tensorboard, early_stopping]"
      ],
      "execution_count": null,
      "outputs": []
    },
    {
      "cell_type": "code",
      "metadata": {
        "id": "bKPptHSqdmcG",
        "outputId": "a9d36413-ebd1-4053-94f0-7cbe7bf20497",
        "colab": {
          "base_uri": "https://localhost:8080/",
          "height": 1000
        }
      },
      "source": [
        "model.compile(optimizer=Adam(0.0001), loss='binary_crossentropy', metrics=['accuracy', recall_m, precision_m, f1_score_m])\n",
        "with tf.device('/device:GPU:0'):\n",
        "  history = model.fit(train_dataset, epochs=100, validation_data=test_dataset, callbacks=callback_list)"
      ],
      "execution_count": null,
      "outputs": [
        {
          "output_type": "stream",
          "text": [
            "Epoch 1/100\n",
            "  2/197 [..............................] - ETA: 11s - loss: 1.0119 - accuracy: 0.7188 - recall_m: 0.2667 - precision_m: 0.6250 - f1_score_m: 0.3095WARNING:tensorflow:Callbacks method `on_train_batch_end` is slow compared to the batch time (batch time: 0.0440s vs `on_train_batch_end` time: 0.0671s). Check your callbacks.\n",
            "197/197 [==============================] - ETA: 0s - loss: 1.0101 - accuracy: 0.6087 - recall_m: 0.3103 - precision_m: 0.4423 - f1_score_m: 0.3358\n",
            "Epoch 00001: val_accuracy improved from -inf to 0.65013, saving model to /content/gdrive/My Drive/brain_mri/xception_model_epochs:001-val_accuracy:0.650.h5\n",
            "197/197 [==============================] - 31s 157ms/step - loss: 1.0101 - accuracy: 0.6087 - recall_m: 0.3103 - precision_m: 0.4423 - f1_score_m: 0.3358 - val_loss: 0.6843 - val_accuracy: 0.6501 - val_recall_m: 0.0000e+00 - val_precision_m: 0.0000e+00 - val_f1_score_m: 0.0000e+00\n",
            "Epoch 2/100\n",
            "197/197 [==============================] - ETA: 0s - loss: 0.8052 - accuracy: 0.6608 - recall_m: 0.4724 - precision_m: 0.5247 - f1_score_m: 0.4682\n",
            "Epoch 00002: val_accuracy did not improve from 0.65013\n",
            "197/197 [==============================] - 26s 130ms/step - loss: 0.8052 - accuracy: 0.6608 - recall_m: 0.4724 - precision_m: 0.5247 - f1_score_m: 0.4682 - val_loss: 0.6662 - val_accuracy: 0.6501 - val_recall_m: 0.0000e+00 - val_precision_m: 0.0000e+00 - val_f1_score_m: 0.0000e+00\n",
            "Epoch 3/100\n",
            "197/197 [==============================] - ETA: 0s - loss: 0.7078 - accuracy: 0.6939 - recall_m: 0.5607 - precision_m: 0.5688 - f1_score_m: 0.5382\n",
            "Epoch 00003: val_accuracy did not improve from 0.65013\n",
            "197/197 [==============================] - 25s 127ms/step - loss: 0.7078 - accuracy: 0.6939 - recall_m: 0.5607 - precision_m: 0.5688 - f1_score_m: 0.5382 - val_loss: 0.6232 - val_accuracy: 0.6501 - val_recall_m: 0.0000e+00 - val_precision_m: 0.0000e+00 - val_f1_score_m: 0.0000e+00\n",
            "Epoch 4/100\n",
            "197/197 [==============================] - ETA: 0s - loss: 0.6118 - accuracy: 0.7299 - recall_m: 0.6288 - precision_m: 0.6139 - f1_score_m: 0.5964\n",
            "Epoch 00004: val_accuracy improved from 0.65013 to 0.76081, saving model to /content/gdrive/My Drive/brain_mri/xception_model_epochs:004-val_accuracy:0.761.h5\n",
            "197/197 [==============================] - 27s 135ms/step - loss: 0.6118 - accuracy: 0.7299 - recall_m: 0.6288 - precision_m: 0.6139 - f1_score_m: 0.5964 - val_loss: 0.4397 - val_accuracy: 0.7608 - val_recall_m: 0.3955 - val_precision_m: 0.7045 - val_f1_score_m: 0.4833\n",
            "Epoch 5/100\n",
            "197/197 [==============================] - ETA: 0s - loss: 0.5025 - accuracy: 0.7719 - recall_m: 0.6867 - precision_m: 0.6800 - f1_score_m: 0.6570\n",
            "Epoch 00005: val_accuracy did not improve from 0.76081\n",
            "197/197 [==============================] - 25s 127ms/step - loss: 0.5025 - accuracy: 0.7719 - recall_m: 0.6867 - precision_m: 0.6800 - f1_score_m: 0.6570 - val_loss: 1.0814 - val_accuracy: 0.5522 - val_recall_m: 0.9946 - val_precision_m: 0.4458 - val_f1_score_m: 0.5973\n",
            "Epoch 6/100\n",
            "197/197 [==============================] - ETA: 0s - loss: 0.4888 - accuracy: 0.7856 - recall_m: 0.7188 - precision_m: 0.7027 - f1_score_m: 0.6814\n",
            "Epoch 00006: val_accuracy improved from 0.76081 to 0.83206, saving model to /content/gdrive/My Drive/brain_mri/xception_model_epochs:006-val_accuracy:0.832.h5\n",
            "197/197 [==============================] - 27s 136ms/step - loss: 0.4888 - accuracy: 0.7856 - recall_m: 0.7188 - precision_m: 0.7027 - f1_score_m: 0.6814 - val_loss: 0.4130 - val_accuracy: 0.8321 - val_recall_m: 0.7476 - val_precision_m: 0.7463 - val_f1_score_m: 0.7277\n",
            "Epoch 7/100\n",
            "197/197 [==============================] - ETA: 0s - loss: 0.3851 - accuracy: 0.8336 - recall_m: 0.7723 - precision_m: 0.7661 - f1_score_m: 0.7464\n",
            "Epoch 00007: val_accuracy did not improve from 0.83206\n",
            "197/197 [==============================] - 25s 129ms/step - loss: 0.3851 - accuracy: 0.8336 - recall_m: 0.7723 - precision_m: 0.7661 - f1_score_m: 0.7464 - val_loss: 0.3918 - val_accuracy: 0.7888 - val_recall_m: 0.9701 - val_precision_m: 0.6400 - val_f1_score_m: 0.7526\n",
            "Epoch 8/100\n",
            "197/197 [==============================] - ETA: 0s - loss: 0.3621 - accuracy: 0.8419 - recall_m: 0.8091 - precision_m: 0.7755 - f1_score_m: 0.7597\n",
            "Epoch 00008: val_accuracy did not improve from 0.83206\n",
            "197/197 [==============================] - 25s 128ms/step - loss: 0.3621 - accuracy: 0.8419 - recall_m: 0.8091 - precision_m: 0.7755 - f1_score_m: 0.7597 - val_loss: 0.4047 - val_accuracy: 0.8232 - val_recall_m: 0.7510 - val_precision_m: 0.7106 - val_f1_score_m: 0.7103\n",
            "Epoch 9/100\n",
            "197/197 [==============================] - ETA: 0s - loss: 0.3103 - accuracy: 0.8731 - recall_m: 0.8476 - precision_m: 0.8220 - f1_score_m: 0.8094\n",
            "Epoch 00009: val_accuracy did not improve from 0.83206\n",
            "197/197 [==============================] - 25s 128ms/step - loss: 0.3103 - accuracy: 0.8731 - recall_m: 0.8476 - precision_m: 0.8220 - f1_score_m: 0.8094 - val_loss: 0.3713 - val_accuracy: 0.8181 - val_recall_m: 0.9302 - val_precision_m: 0.6740 - val_f1_score_m: 0.7608\n",
            "Epoch 10/100\n",
            "197/197 [==============================] - ETA: 0s - loss: 0.2481 - accuracy: 0.8960 - recall_m: 0.8797 - precision_m: 0.8496 - f1_score_m: 0.8440\n",
            "Epoch 00010: val_accuracy improved from 0.83206 to 0.86260, saving model to /content/gdrive/My Drive/brain_mri/xception_model_epochs:010-val_accuracy:0.863.h5\n",
            "197/197 [==============================] - 27s 138ms/step - loss: 0.2481 - accuracy: 0.8960 - recall_m: 0.8797 - precision_m: 0.8496 - f1_score_m: 0.8440 - val_loss: 0.3193 - val_accuracy: 0.8626 - val_recall_m: 0.7803 - val_precision_m: 0.8262 - val_f1_score_m: 0.7838\n",
            "Epoch 11/100\n",
            "197/197 [==============================] - ETA: 0s - loss: 0.2405 - accuracy: 0.9052 - recall_m: 0.8804 - precision_m: 0.8621 - f1_score_m: 0.8543\n",
            "Epoch 00011: val_accuracy improved from 0.86260 to 0.87659, saving model to /content/gdrive/My Drive/brain_mri/xception_model_epochs:011-val_accuracy:0.877.h5\n",
            "197/197 [==============================] - 27s 137ms/step - loss: 0.2405 - accuracy: 0.9052 - recall_m: 0.8804 - precision_m: 0.8621 - f1_score_m: 0.8543 - val_loss: 0.2865 - val_accuracy: 0.8766 - val_recall_m: 0.8182 - val_precision_m: 0.8100 - val_f1_score_m: 0.7982\n",
            "Epoch 12/100\n",
            "197/197 [==============================] - ETA: 0s - loss: 0.2354 - accuracy: 0.9071 - recall_m: 0.8940 - precision_m: 0.8642 - f1_score_m: 0.8564\n",
            "Epoch 00012: val_accuracy improved from 0.87659 to 0.88295, saving model to /content/gdrive/My Drive/brain_mri/xception_model_epochs:012-val_accuracy:0.883.h5\n",
            "197/197 [==============================] - 27s 137ms/step - loss: 0.2354 - accuracy: 0.9071 - recall_m: 0.8940 - precision_m: 0.8642 - f1_score_m: 0.8564 - val_loss: 0.2799 - val_accuracy: 0.8830 - val_recall_m: 0.7545 - val_precision_m: 0.8758 - val_f1_score_m: 0.7958\n",
            "Epoch 13/100\n",
            "197/197 [==============================] - ETA: 0s - loss: 0.1845 - accuracy: 0.9252 - recall_m: 0.9087 - precision_m: 0.8935 - f1_score_m: 0.8859\n",
            "Epoch 00013: val_accuracy improved from 0.88295 to 0.91603, saving model to /content/gdrive/My Drive/brain_mri/xception_model_epochs:013-val_accuracy:0.916.h5\n",
            "197/197 [==============================] - 27s 138ms/step - loss: 0.1845 - accuracy: 0.9252 - recall_m: 0.9087 - precision_m: 0.8935 - f1_score_m: 0.8859 - val_loss: 0.2320 - val_accuracy: 0.9160 - val_recall_m: 0.8101 - val_precision_m: 0.9311 - val_f1_score_m: 0.8553\n",
            "Epoch 14/100\n",
            "197/197 [==============================] - ETA: 0s - loss: 0.1694 - accuracy: 0.9373 - recall_m: 0.9313 - precision_m: 0.9036 - f1_score_m: 0.9027\n",
            "Epoch 00014: val_accuracy did not improve from 0.91603\n",
            "197/197 [==============================] - 25s 129ms/step - loss: 0.1694 - accuracy: 0.9373 - recall_m: 0.9313 - precision_m: 0.9036 - f1_score_m: 0.9027 - val_loss: 0.3549 - val_accuracy: 0.8448 - val_recall_m: 0.9668 - val_precision_m: 0.7002 - val_f1_score_m: 0.7966\n",
            "Epoch 15/100\n",
            "197/197 [==============================] - ETA: 0s - loss: 0.1916 - accuracy: 0.9290 - recall_m: 0.9204 - precision_m: 0.8862 - f1_score_m: 0.8848\n",
            "Epoch 00015: val_accuracy did not improve from 0.91603\n",
            "197/197 [==============================] - 25s 129ms/step - loss: 0.1916 - accuracy: 0.9290 - recall_m: 0.9204 - precision_m: 0.8862 - f1_score_m: 0.8848 - val_loss: 0.2152 - val_accuracy: 0.9071 - val_recall_m: 0.8639 - val_precision_m: 0.8698 - val_f1_score_m: 0.8488\n",
            "Epoch 16/100\n",
            "197/197 [==============================] - ETA: 0s - loss: 0.1615 - accuracy: 0.9364 - recall_m: 0.9323 - precision_m: 0.8962 - f1_score_m: 0.9020\n",
            "Epoch 00016: val_accuracy did not improve from 0.91603\n",
            "197/197 [==============================] - 25s 128ms/step - loss: 0.1615 - accuracy: 0.9364 - recall_m: 0.9323 - precision_m: 0.8962 - f1_score_m: 0.9020 - val_loss: 0.2539 - val_accuracy: 0.8893 - val_recall_m: 0.8467 - val_precision_m: 0.8255 - val_f1_score_m: 0.8228\n",
            "Epoch 17/100\n",
            "197/197 [==============================] - ETA: 0s - loss: 0.1327 - accuracy: 0.9523 - recall_m: 0.9442 - precision_m: 0.9292 - f1_score_m: 0.9268\n",
            "Epoch 00017: val_accuracy did not improve from 0.91603\n",
            "197/197 [==============================] - 26s 130ms/step - loss: 0.1327 - accuracy: 0.9523 - recall_m: 0.9442 - precision_m: 0.9292 - f1_score_m: 0.9268 - val_loss: 0.3048 - val_accuracy: 0.8842 - val_recall_m: 0.8835 - val_precision_m: 0.7889 - val_f1_score_m: 0.8209\n",
            "Epoch 18/100\n",
            "197/197 [==============================] - ETA: 0s - loss: 0.1357 - accuracy: 0.9478 - recall_m: 0.9414 - precision_m: 0.9152 - f1_score_m: 0.9144\n",
            "Epoch 00018: val_accuracy did not improve from 0.91603\n",
            "197/197 [==============================] - 25s 129ms/step - loss: 0.1357 - accuracy: 0.9478 - recall_m: 0.9414 - precision_m: 0.9152 - f1_score_m: 0.9144 - val_loss: 0.2464 - val_accuracy: 0.9020 - val_recall_m: 0.8486 - val_precision_m: 0.8533 - val_f1_score_m: 0.8421\n",
            "Epoch 19/100\n",
            "197/197 [==============================] - ETA: 0s - loss: 0.1279 - accuracy: 0.9564 - recall_m: 0.9597 - precision_m: 0.9211 - f1_score_m: 0.9276\n",
            "Epoch 00019: val_accuracy did not improve from 0.91603\n",
            "197/197 [==============================] - 25s 129ms/step - loss: 0.1279 - accuracy: 0.9564 - recall_m: 0.9597 - precision_m: 0.9211 - f1_score_m: 0.9276 - val_loss: 0.2296 - val_accuracy: 0.9097 - val_recall_m: 0.8587 - val_precision_m: 0.8622 - val_f1_score_m: 0.8473\n",
            "Epoch 20/100\n",
            "197/197 [==============================] - ETA: 0s - loss: 0.1355 - accuracy: 0.9513 - recall_m: 0.9420 - precision_m: 0.9282 - f1_score_m: 0.9228\n",
            "Epoch 00020: val_accuracy did not improve from 0.91603\n",
            "197/197 [==============================] - 25s 129ms/step - loss: 0.1355 - accuracy: 0.9513 - recall_m: 0.9420 - precision_m: 0.9282 - f1_score_m: 0.9228 - val_loss: 0.2309 - val_accuracy: 0.9097 - val_recall_m: 0.8090 - val_precision_m: 0.9080 - val_f1_score_m: 0.8456\n",
            "Epoch 21/100\n",
            "197/197 [==============================] - ETA: 0s - loss: 0.1177 - accuracy: 0.9599 - recall_m: 0.9483 - precision_m: 0.9398 - f1_score_m: 0.9342\n",
            "Epoch 00021: val_accuracy did not improve from 0.91603\n",
            "197/197 [==============================] - 25s 129ms/step - loss: 0.1177 - accuracy: 0.9599 - recall_m: 0.9483 - precision_m: 0.9398 - f1_score_m: 0.9342 - val_loss: 0.3681 - val_accuracy: 0.8639 - val_recall_m: 0.9589 - val_precision_m: 0.7485 - val_f1_score_m: 0.8223\n",
            "Epoch 22/100\n",
            "197/197 [==============================] - ETA: 0s - loss: 0.1144 - accuracy: 0.9609 - recall_m: 0.9534 - precision_m: 0.9407 - f1_score_m: 0.9382\n",
            "Epoch 00022: val_accuracy did not improve from 0.91603\n",
            "197/197 [==============================] - 25s 129ms/step - loss: 0.1144 - accuracy: 0.9609 - recall_m: 0.9534 - precision_m: 0.9407 - f1_score_m: 0.9382 - val_loss: 0.3969 - val_accuracy: 0.8664 - val_recall_m: 0.6264 - val_precision_m: 0.9467 - val_f1_score_m: 0.7355\n",
            "Epoch 23/100\n",
            "197/197 [==============================] - ETA: 0s - loss: 0.1196 - accuracy: 0.9577 - recall_m: 0.9512 - precision_m: 0.9294 - f1_score_m: 0.9298\n",
            "Epoch 00023: val_accuracy did not improve from 0.91603\n",
            "197/197 [==============================] - 25s 129ms/step - loss: 0.1196 - accuracy: 0.9577 - recall_m: 0.9512 - precision_m: 0.9294 - f1_score_m: 0.9298 - val_loss: 0.3991 - val_accuracy: 0.8931 - val_recall_m: 0.7076 - val_precision_m: 0.9527 - val_f1_score_m: 0.7981\n",
            "Epoch 00023: early stopping\n"
          ],
          "name": "stdout"
        }
      ]
    },
    {
      "cell_type": "code",
      "metadata": {
        "id": "yiXE809Tdmja",
        "outputId": "bc6fcd43-9c69-4fd2-d1b3-408b6bdbf052",
        "colab": {
          "base_uri": "https://localhost:8080/",
          "height": 262
        }
      },
      "source": [
        "accuracy = history.history['accuracy']\n",
        "val_accuracy = history.history['val_accuracy']\n",
        "\n",
        "plt.figure(figsize=(8,8))\n",
        "plt.subplot(2,1,1)\n",
        "plt.plot(accuracy, label='Train Accuracy')\n",
        "plt.plot(val_accuracy, label='Validation Accuracy')\n",
        "plt.legend(loc='lower right')\n",
        "plt.ylabel('Accuracy')\n",
        "plt.title('Train vs Validation Accuracy')\n",
        "plt.show()"
      ],
      "execution_count": null,
      "outputs": [
        {
          "output_type": "display_data",
          "data": {
            "image/png": "[encoded data removed]",
            "text/plain": [
              "<Figure size 576x576 with 1 Axes>"
            ]
          },
          "metadata": {
            "tags": [],
            "needs_background": "light"
          }
        }
      ]
    },
    {
      "cell_type": "code",
      "metadata": {
        "id": "ZXKzjI8pdmp2",
        "outputId": "9556310d-cee4-4a6b-d0e2-13bd436a7580",
        "colab": {
          "base_uri": "https://localhost:8080/",
          "height": 262
        }
      },
      "source": [
        "recall_m = history.history['recall_m']\n",
        "val_recall_m = history.history['val_recall_m']\n",
        "\n",
        "plt.figure(figsize=(8,8))\n",
        "plt.subplot(2,1,1)\n",
        "plt.plot(recall_m, label='Train Recall')\n",
        "plt.plot(val_recall_m, label='Validation Recall')\n",
        "plt.legend(loc='lower right')\n",
        "plt.ylabel('Recall')\n",
        "plt.title('Train vs Validation Recall')\n",
        "plt.show()"
      ],
      "execution_count": null,
      "outputs": [
        {
          "output_type": "display_data",
          "data": {
            "image/png": "[encoded data removed]",
            "text/plain": [
              "<Figure size 576x576 with 1 Axes>"
            ]
          },
          "metadata": {
            "tags": [],
            "needs_background": "light"
          }
        }
      ]
    },
    {
      "cell_type": "code",
      "metadata": {
        "id": "igFXcQ3ddmmU",
        "outputId": "587a5f34-ea4e-4863-d0e4-6ae59935245a",
        "colab": {
          "base_uri": "https://localhost:8080/",
          "height": 262
        }
      },
      "source": [
        "precision_m = history.history['precision_m']\n",
        "val_precision_m = history.history['val_precision_m']\n",
        "\n",
        "plt.figure(figsize=(8,8))\n",
        "plt.subplot(2,1,1)\n",
        "plt.plot(precision_m, label='Train Precision')\n",
        "plt.plot(val_precision_m, label='Validation Precision')\n",
        "plt.legend(loc='lower right')\n",
        "plt.ylabel('Precision')\n",
        "plt.title('Train vs Validation Precision')\n",
        "plt.show()"
      ],
      "execution_count": null,
      "outputs": [
        {
          "output_type": "display_data",
          "data": {
            "image/png": "[encoded data removed]",
            "text/plain": [
              "<Figure size 576x576 with 1 Axes>"
            ]
          },
          "metadata": {
            "tags": [],
            "needs_background": "light"
          }
        }
      ]
    },
    {
      "cell_type": "code",
      "metadata": {
        "id": "giiaXJOxdmgO",
        "outputId": "91cde8e8-15a5-4b58-c06e-cb2ce04a63df",
        "colab": {
          "base_uri": "https://localhost:8080/",
          "height": 262
        }
      },
      "source": [
        "f1_score_m = history.history['f1_score_m']\n",
        "val_f1_score_m = history.history['val_f1_score_m']\n",
        "\n",
        "plt.figure(figsize=(8,8))\n",
        "plt.subplot(2,1,1)\n",
        "plt.plot(f1_score_m, label='Train F1-Score')\n",
        "plt.plot(val_f1_score_m, label='Validation F1-Score')\n",
        "plt.legend(loc='lower right')\n",
        "plt.ylabel('F1-Score')\n",
        "plt.title('Train vs Validation F1-Score')\n",
        "plt.show()"
      ],
      "execution_count": null,
      "outputs": [
        {
          "output_type": "display_data",
          "data": {
            "image/png": "[encoded data removed]",
            "text/plain": [
              "<Figure size 576x576 with 1 Axes>"
            ]
          },
          "metadata": {
            "tags": [],
            "needs_background": "light"
          }
        }
      ]
    },
    {
      "cell_type": "markdown",
      "metadata": {
        "id": "lWLESCMFYOhn"
      },
      "source": [
        "**OBSERVATION**\n",
        "\n",
        "*   Here we observe that considering all the thresholds, the best scores we observe is at epoch 13 where the accuracy and val_accuracy are 0.9252 and 0.9160 respectively\n",
        "*   Hence, we can conclude that the model is not overfitting and consider this to be the best-model with recall and precision values to be 81% and 93% respetively. \n",
        "*   Furthermore, the F1-Score is also observed to be 86%"
      ]
    },
    {
      "cell_type": "code",
      "metadata": {
        "id": "kllBuK9n8UYz"
      },
      "source": [
        "dependencies = {\n",
        "    'recall_m':recall_m,\n",
        "    'precision_m':precision_m,    \n",
        "    'f1_score_m':f1_score_m    \n",
        "}"
      ],
      "execution_count": null,
      "outputs": []
    },
    {
      "cell_type": "code",
      "metadata": {
        "id": "0S8xgJRjdmZG",
        "outputId": "ba5922af-476e-42d8-ca41-24de78b50b6b",
        "colab": {
          "base_uri": "https://localhost:8080/",
          "height": 54
        }
      },
      "source": [
        "best_model = load_model('/content/gdrive/My Drive/brain_mri/xception_model_epochs:013-val_accuracy:0.916.h5', custom_objects=dependencies)"
      ],
      "execution_count": null,
      "outputs": [
        {
          "output_type": "stream",
          "text": [
            "WARNING:tensorflow:Compiled the loaded model, but the compiled metrics have yet to be built. `model.compile_metrics` will be empty until you train or evaluate the model.\n"
          ],
          "name": "stdout"
        }
      ]
    },
    {
      "cell_type": "code",
      "metadata": {
        "id": "e3OV6SLLdmMd"
      },
      "source": [
        "y_pred_prob = best_model.predict(test_dataset, batch_size=16)"
      ],
      "execution_count": null,
      "outputs": []
    },
    {
      "cell_type": "code",
      "metadata": {
        "id": "xWCO0zuIA_2z"
      },
      "source": [
        "y_pred = []\n",
        "for element in y_pred_prob:\n",
        "  if element < 0.5:\n",
        "    y_pred.append(0)\n",
        "  else:\n",
        "    y_pred.append(1)"
      ],
      "execution_count": null,
      "outputs": []
    },
    {
      "cell_type": "code",
      "metadata": {
        "id": "ADVVZ3VsuIKn"
      },
      "source": [
        "conf_matrix = confusion_matrix(test_diagnosis, y_pred)"
      ],
      "execution_count": null,
      "outputs": []
    },
    {
      "cell_type": "code",
      "metadata": {
        "id": "Qz_ugTgv4F8o",
        "outputId": "a2319f8c-fb97-4f4d-ae62-70be439d7380",
        "colab": {
          "base_uri": "https://localhost:8080/",
          "height": 265
        }
      },
      "source": [
        "group_counts = [\"{0:0.0f}\".format(value) for value in conf_matrix.flatten()]\n",
        "labels = [f\"{v1}\" for v1 in group_counts]\n",
        "labels = np.asarray(labels).reshape(2,2)\n",
        "sns.heatmap(conf_matrix, annot=labels, fmt='');"
      ],
      "execution_count": null,
      "outputs": [
        {
          "output_type": "display_data",
          "data": {
            "image/png": "[encoded data removed]",
            "text/plain": [
              "<Figure size 432x288 with 2 Axes>"
            ]
          },
          "metadata": {
            "tags": [],
            "needs_background": "light"
          }
        }
      ]
    },
    {
      "cell_type": "code",
      "metadata": {
        "id": "Fz0Lu_mJoX_H"
      },
      "source": [
        ""
      ],
      "execution_count": null,
      "outputs": []
    },
    {
      "cell_type": "code",
      "metadata": {
        "id": "HHMQZnmgP9tZ"
      },
      "source": [
        ""
      ],
      "execution_count": null,
      "outputs": []
    },
    {
      "cell_type": "code",
      "metadata": {
        "id": "5EPRPiQ1P90O"
      },
      "source": [
        ""
      ],
      "execution_count": null,
      "outputs": []
    },
    {
      "cell_type": "code",
      "metadata": {
        "id": "XEMD4xhxP9xx"
      },
      "source": [
        ""
      ],
      "execution_count": null,
      "outputs": []
    },
    {
      "cell_type": "code",
      "metadata": {
        "id": "gQ52HU-UP9qu"
      },
      "source": [
        ""
      ],
      "execution_count": null,
      "outputs": []
    },
    {
      "cell_type": "code",
      "metadata": {
        "id": "CwVCJzz1P9ob"
      },
      "source": [
        ""
      ],
      "execution_count": null,
      "outputs": []
    }
  ]
}